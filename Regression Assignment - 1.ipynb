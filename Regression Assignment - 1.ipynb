{
 "cells": [
  {
   "cell_type": "markdown",
   "id": "91efc94f-c8c2-42c5-963b-cd4baf1a96ec",
   "metadata": {},
   "source": [
    "# Q1. Explain the difference between simple linear regression and multiple linear regression. Provide an example of each.\n"
   ]
  },
  {
   "attachments": {
    "14362f2c-6fe6-40a4-b2b8-bc60841be687.png": {
     "image/png": "[encoded data removed]"
    },
    "2add3d2d-de10-4645-990a-87497f364d06.png": {
     "image/png": "[encoded data removed]"
    }
   },
   "cell_type": "markdown",
   "id": "1fb3a53f-87d7-48bf-ba7a-35574a2c23a4",
   "metadata": {},
   "source": [
    "Simple Linear Regression is a statistical technique used to model the relationship between a dependent variable and a single independent variable . The goal is to fit a straight line through the data points that best represents this relationship.\n",
    "\n",
    "![image.png](attachment:2add3d2d-de10-4645-990a-87497f364d06.png)\n",
    "\n",
    "Multiple Linear Regression extends this concept by using two or more independent variables to predict the dependent variable. It models a linear relationship between the dependent variable and multiple predictors.\n",
    "\n",
    "![image.png](attachment:14362f2c-6fe6-40a4-b2b8-bc60841be687.png)"
   ]
  },
  {
   "cell_type": "markdown",
   "id": "58c5c87a-778c-4d2b-9dee-9f04ccdc09b6",
   "metadata": {},
   "source": [
    "# Q2. Discuss the assumptions of linear regression. How can you check whether these assumptions hold in a given dataset?"
   ]
  },
  {
   "cell_type": "markdown",
   "id": "6b98fbc6-54e9-49c6-9556-5dbc251d3977",
   "metadata": {},
   "source": [
    "## Assumptions\n",
    "Linearity- The relationship between the dependent and independent variables must be linear.\n",
    "Independence of Errors- Observations should be independent of each other.\n",
    "Homoscedasticity- The variance of the residuals should remain constant across all levels of the independent variables.\n",
    "No Multicollinearity (only in multiple linear regression)- Independent variables should not be highly correlated.\n"
   ]
  },
  {
   "cell_type": "markdown",
   "id": "4033148b-ac86-4c56-a48a-6543e28284c0",
   "metadata": {},
   "source": [
    "# Q3. How do you interpret the slope and intercept in a linear regression model? Provide an example using a real-world scenario."
   ]
  },
  {
   "cell_type": "markdown",
   "id": "1b0c326f-b401-4a61-9f34-a1cbcf721cdb",
   "metadata": {},
   "source": [
    "Interpretation of the Intercept - The intercept is the predicted value of the dependent variable when all independent variables are zero. It gives a baseline or starting point for the regression line. In real-world terms, it may or may not be meaningful depending on the context of the data.\n",
    "\n",
    "Interpretation of the Slope - The slope indicates the change in the dependent variable for a one-unit increase in the independent variable, holding all else constant. It shows the strength and direction of the relationship.\n",
    "\n",
    "Example\n",
    "analyzing how advertising spending  Rs 1,000 affects monthly sales Rs 10,000 for an e-commerce business.\n",
    "### Equation\n",
    "### Sales= 5 + 2.5×AdSpend\n",
    "Intercept (5): This means that if the company spends 0 on advertising, the expected monthly sales are 50,000 (5 × 10,000). In context, this could represent organic sales through brand recognition or returning customers.\n",
    "\n",
    "Slope (2.5): For every 1,000 increase in advertising spend, monthly sales are expected to increase by ₹25,000 (2.5 × ₹10,000). This shows a strong positive relationship between ad spend and sales."
   ]
  },
  {
   "cell_type": "markdown",
   "id": "c50052ad-52c4-4ae0-a14d-5e22ef34fef9",
   "metadata": {},
   "source": [
    "# Q4. Explain the concept of gradient descent. How is it used in machine learning?"
   ]
  },
  {
   "cell_type": "markdown",
   "id": "43e77298-4184-4317-a336-69d8decda767",
   "metadata": {},
   "source": [
    "Gradient descent is an optimization algorithm used to minimize a function by iteratively moving towards the minimum value of the function. In machine learning, it is primarily used to minimize the loss function, which measures how far off a model’s predictions are from the actual values.\n",
    "\n",
    "Gradient descent works by calculating the gradient (partial derivatives) of the loss function with respect to each parameter. These gradients indicate the direction in which the error increases the most. The algorithm then updates the parameters in the opposite direction of the gradient to reduce the error."
   ]
  },
  {
   "cell_type": "markdown",
   "id": "33d7f5b0-7ba9-4fd8-b23a-bd5543fdb4f4",
   "metadata": {},
   "source": [
    "# Q5. Describe the multiple linear regression model. How does it differ from simple linear regression?"
   ]
  },
  {
   "cell_type": "markdown",
   "id": "ee40742e-1d43-4a40-9533-6de37202ebcc",
   "metadata": {},
   "source": [
    "Multiple Linear Regression  is a statistical technique that models the relationship between a dependent variable and two or more independent variables. It helps in predicting the outcome of a dependent variable based on the linear combination of multiple predictors."
   ]
  },
  {
   "cell_type": "markdown",
   "id": "b3d5a633-4395-4a8f-9fda-97aff6f0f2de",
   "metadata": {},
   "source": [
    "# Q6. Explain the concept of multicollinearity in multiple linear regression. How can you detect and address this issue?"
   ]
  },
  {
   "cell_type": "markdown",
   "id": "d8dff10f-59cb-4e16-a947-b18be24baaa2",
   "metadata": {},
   "source": [
    "Multicollinearity occurs when two or more independent variables in a multiple linear regression model are highly correlated. This makes it difficult to determine the individual effect of each predictor on the dependent variable, leading to unstable and unreliable coefficient estimates.\n",
    "\n",
    "Solutions to Multicollinearity-Remove one of the correlated variables if they provide redundant information."
   ]
  },
  {
   "cell_type": "markdown",
   "id": "757d797a-0494-4ba2-864b-5216de42306d",
   "metadata": {},
   "source": [
    "# Q7. Describe the polynomial regression model. How is it different from linear regression?"
   ]
  },
  {
   "attachments": {
    "ceb3765d-efce-48ab-a297-ac63bc8f8fb5.png": {
     "image/png": "[encoded data removed]"
    }
   },
   "cell_type": "markdown",
   "id": "21f58070-6755-4e9a-9e00-34e75d752305",
   "metadata": {},
   "source": [
    "Polynomial Regression is an extension of linear regression where the relationship between the independent variable and the dependent variable is modeled as an nth-degree polynomial. It allows for curvilinear relationships by including higher-order terms in the model.\n",
    "\n",
    "The general form\n",
    "\n",
    "\n",
    "![image.png](attachment:ceb3765d-efce-48ab-a297-ac63bc8f8fb5.png)"
   ]
  },
  {
   "cell_type": "markdown",
   "id": "807b3aea-54ed-497e-9063-5f4283460a0f",
   "metadata": {},
   "source": [
    "# Q8. What are the advantages and disadvantages of polynomial regression compared to linear regression? In what situations would you prefer to use polynomial regression?"
   ]
  },
  {
   "cell_type": "markdown",
   "id": "6d6f1161-74f8-4f8a-a40a-9c67d0fd7635",
   "metadata": {},
   "source": [
    "Advantages\n",
    "\n",
    "Captures non-linear patterns: It models curved relationships, which linear regression cannot.\n",
    "\n",
    "Flexible: With the right degree, it can closely fit complex data trends.\n",
    "\n",
    "Still linear in parameters: Despite being non-linear in predictors, it uses linear regression techniques, making it computationally efficient.\n",
    "\n",
    "Disadvantages\n",
    "\n",
    "Overfitting risk: Higher-degree polynomials can fit noise in the data, reducing generalization on new data.\n",
    "\n",
    "Poor extrapolation: Predictions outside the training range can become extreme or unreliable.\n",
    "\n",
    "Hard to interpret: Coefficients of higher-order terms are not intuitive or easy to explain.\n",
    "\n",
    "Sensitive to outliers: Polynomial curves can be heavily influenced by outliers.\n",
    "\n",
    "Uses Polynomial Regression\n",
    "\n",
    "When the data shows a non-linear trend (e.g., curved or U-shaped relationships).\n",
    "\n",
    "In physical or natural phenomena where growth or decay isn’t linear.\n",
    "\n",
    "When adding polynomial terms improves model performance (checked via metrics like R² or cross-validation)."
   ]
  },
  {
   "cell_type": "code",
   "execution_count": null,
   "id": "132a0921-95f0-4978-a008-be6c4d825be2",
   "metadata": {},
   "outputs": [],
   "source": []
  }
 ],
 "metadata": {
  "kernelspec": {
   "display_name": "Python 3 (ipykernel)",
   "language": "python",
   "name": "python3"
  },
  "language_info": {
   "codemirror_mode": {
    "name": "ipython",
    "version": 3
   },
   "file_extension": ".py",
   "mimetype": "text/x-python",
   "name": "python",
   "nbconvert_exporter": "python",
   "pygments_lexer": "ipython3",
   "version": "3.12.7"
  }
 },
 "nbformat": 4,
 "nbformat_minor": 5
}
